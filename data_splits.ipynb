{
 "cells": [
  {
   "cell_type": "code",
   "execution_count": 2,
   "id": "e0031758",
   "metadata": {
    "ExecuteTime": {
     "end_time": "2021-12-21T07:21:28.182133Z",
     "start_time": "2021-12-21T07:21:27.866655Z"
    }
   },
   "outputs": [],
   "source": [
    "import os\n",
    "import numpy as np\n",
    "import pandas as pd\n",
    "from sklearn.preprocessing import LabelEncoder\n",
    "from sklearn.model_selection import train_test_split"
   ]
  },
  {
   "cell_type": "code",
   "execution_count": 4,
   "id": "697ef1cb",
   "metadata": {
    "ExecuteTime": {
     "end_time": "2021-12-10T04:08:17.227508Z",
     "start_time": "2021-12-10T04:08:17.225385Z"
    }
   },
   "outputs": [],
   "source": [
    "BASE_PATH = 'data/'\n",
    "classes = ['food-images', 'non-food-images']"
   ]
  },
  {
   "cell_type": "code",
   "execution_count": 5,
   "id": "bd35e32e",
   "metadata": {
    "ExecuteTime": {
     "end_time": "2021-12-10T04:08:17.233547Z",
     "start_time": "2021-12-10T04:08:17.228839Z"
    }
   },
   "outputs": [],
   "source": [
    "def get_files(root_path):\n",
    "    file_list = []\n",
    "    for dirr, _, files in os.walk(root_path):\n",
    "        for file in files:\n",
    "            file_list.append(os.path.join(dirr, file))\n",
    "    return file_list\n",
    "\n",
    "def dir_to_labels(BASE_PATH, classes):\n",
    "    main_dirs = [os.path.join(BASE_PATH, i) for i in os.listdir(BASE_PATH) if i in classes]\n",
    "    file_dict = {main_dirs[i]: get_files(k) for i, k in enumerate(main_dirs)}\n",
    "    df = pd.concat(pd.DataFrame({'img':v, 'label':k}) for k, v in file_dict.items())\n",
    "    df['label'] = df['label'].apply(lambda x: x.split('/')[-1])\n",
    "    \n",
    "    return df.reset_index(drop=True)"
   ]
  },
  {
   "cell_type": "code",
   "execution_count": 6,
   "id": "ac5569eb",
   "metadata": {
    "ExecuteTime": {
     "end_time": "2021-12-10T04:08:17.455425Z",
     "start_time": "2021-12-10T04:08:17.234937Z"
    }
   },
   "outputs": [],
   "source": [
    "df = dir_to_labels(BASE_PATH, classes)"
   ]
  },
  {
   "cell_type": "code",
   "execution_count": 24,
   "id": "34b7f13e",
   "metadata": {
    "ExecuteTime": {
     "end_time": "2021-12-10T06:45:36.254228Z",
     "start_time": "2021-12-10T06:45:35.990758Z"
    }
   },
   "outputs": [
    {
     "data": {
      "text/plain": [
       "food-images        0.663701\n",
       "non-food-images    0.336299\n",
       "Name: label, dtype: float64"
      ]
     },
     "execution_count": 24,
     "metadata": {},
     "output_type": "execute_result"
    }
   ],
   "source": [
    "# added food-101 images and moved some labels to non-food\n",
    "df_new = dir_to_labels(BASE_PATH, classes)\n",
    "df_new.label.value_counts(normalize=True)"
   ]
  },
  {
   "cell_type": "code",
   "execution_count": 25,
   "id": "2b7260b4",
   "metadata": {
    "ExecuteTime": {
     "end_time": "2021-12-10T06:47:32.395421Z",
     "start_time": "2021-12-10T06:47:32.370675Z"
    }
   },
   "outputs": [],
   "source": [
    "le = LabelEncoder()\n",
    "df_new['enc_label'] = le.fit_transform(df_new.label)"
   ]
  },
  {
   "cell_type": "code",
   "execution_count": 31,
   "id": "4e5e5418",
   "metadata": {
    "ExecuteTime": {
     "end_time": "2021-12-10T06:49:21.579348Z",
     "start_time": "2021-12-10T06:49:21.573631Z"
    }
   },
   "outputs": [
    {
     "data": {
      "text/plain": [
       "0    0.663701\n",
       "1    0.336299\n",
       "Name: enc_label, dtype: float64"
      ]
     },
     "execution_count": 31,
     "metadata": {},
     "output_type": "execute_result"
    }
   ],
   "source": [
    "df_new.enc_label.value_counts(normalize=True)"
   ]
  },
  {
   "cell_type": "code",
   "execution_count": 33,
   "id": "bec35ce4",
   "metadata": {
    "ExecuteTime": {
     "end_time": "2021-12-10T06:50:05.364747Z",
     "start_time": "2021-12-10T06:50:05.333528Z"
    }
   },
   "outputs": [],
   "source": [
    "targets = df_new.enc_label\n",
    "train_idx, test_idx = train_test_split(np.arange(len(targets)), test_size=.2, stratify=targets, random_state=42)"
   ]
  },
  {
   "cell_type": "code",
   "execution_count": 34,
   "id": "92adec8e",
   "metadata": {
    "ExecuteTime": {
     "end_time": "2021-12-10T06:50:06.991877Z",
     "start_time": "2021-12-10T06:50:06.962760Z"
    }
   },
   "outputs": [],
   "source": [
    "df_new.loc[train_idx, 'set'] = 'train'\n",
    "df_new.loc[test_idx, 'set'] = 'test'"
   ]
  },
  {
   "cell_type": "code",
   "execution_count": null,
   "id": "942c926d",
   "metadata": {},
   "outputs": [],
   "source": []
  },
  {
   "cell_type": "code",
   "execution_count": null,
   "id": "239f0372",
   "metadata": {},
   "outputs": [],
   "source": []
  },
  {
   "cell_type": "code",
   "execution_count": null,
   "id": "d043ccd1",
   "metadata": {},
   "outputs": [],
   "source": []
  },
  {
   "cell_type": "code",
   "execution_count": 7,
   "id": "6802c80c",
   "metadata": {
    "ExecuteTime": {
     "end_time": "2021-12-10T04:08:18.547927Z",
     "start_time": "2021-12-10T04:08:18.529123Z"
    }
   },
   "outputs": [
    {
     "data": {
      "text/plain": [
       "non-food-images    0.945398\n",
       "food-images        0.054602\n",
       "Name: label, dtype: float64"
      ]
     },
     "execution_count": 7,
     "metadata": {},
     "output_type": "execute_result"
    }
   ],
   "source": [
    "df.label.value_counts(normalize=True)"
   ]
  },
  {
   "cell_type": "code",
   "execution_count": 8,
   "id": "0a761b2d",
   "metadata": {
    "ExecuteTime": {
     "end_time": "2021-12-10T04:08:18.827323Z",
     "start_time": "2021-12-10T04:08:18.813939Z"
    }
   },
   "outputs": [],
   "source": [
    "le = LabelEncoder()\n",
    "df['enc_label'] = le.fit_transform(df.label)"
   ]
  },
  {
   "cell_type": "code",
   "execution_count": 9,
   "id": "a6f1da80",
   "metadata": {
    "ExecuteTime": {
     "end_time": "2021-12-10T04:08:22.646349Z",
     "start_time": "2021-12-10T04:08:22.629952Z"
    }
   },
   "outputs": [],
   "source": [
    "food = df[df.label == 'food-images']\n",
    "non_food = df[df.label == 'non-food-images'].sample(n=3000)\n",
    "\n",
    "df_balanced = pd.concat([food, non_food]).reset_index(drop=True)"
   ]
  },
  {
   "cell_type": "code",
   "execution_count": 10,
   "id": "27f84d07",
   "metadata": {
    "ExecuteTime": {
     "end_time": "2021-12-10T04:08:24.395384Z",
     "start_time": "2021-12-10T04:08:24.389456Z"
    }
   },
   "outputs": [
    {
     "data": {
      "text/plain": [
       "non-food-images    3000\n",
       "food-images        2985\n",
       "Name: label, dtype: int64"
      ]
     },
     "execution_count": 10,
     "metadata": {},
     "output_type": "execute_result"
    }
   ],
   "source": [
    "df_balanced.label.value_counts()"
   ]
  },
  {
   "cell_type": "code",
   "execution_count": 239,
   "id": "36eb595c",
   "metadata": {
    "ExecuteTime": {
     "end_time": "2021-12-05T16:07:34.986816Z",
     "start_time": "2021-12-05T16:07:34.981719Z"
    }
   },
   "outputs": [],
   "source": [
    "targets = df_balanced.enc_label\n",
    "train_idx, test_idx = train_test_split(np.arange(len(targets)), test_size=.2, stratify=targets, random_state=42)"
   ]
  },
  {
   "cell_type": "code",
   "execution_count": 244,
   "id": "7ba1c2b7",
   "metadata": {
    "ExecuteTime": {
     "end_time": "2021-12-05T16:09:02.024050Z",
     "start_time": "2021-12-05T16:09:02.019173Z"
    }
   },
   "outputs": [],
   "source": [
    "df_balanced.loc[train_idx, 'set'] = 'train'\n",
    "df_balanced.loc[test_idx, 'set'] = 'test'"
   ]
  },
  {
   "cell_type": "code",
   "execution_count": 251,
   "id": "c9c23cae",
   "metadata": {
    "ExecuteTime": {
     "end_time": "2021-12-06T15:26:23.525206Z",
     "start_time": "2021-12-06T15:26:23.519264Z"
    }
   },
   "outputs": [],
   "source": [
    "df_balanced['subclass'] = df_balanced['img'].apply(lambda x: x.split('/')[2])"
   ]
  },
  {
   "cell_type": "code",
   "execution_count": 258,
   "id": "5d68e55e",
   "metadata": {
    "ExecuteTime": {
     "end_time": "2021-12-06T15:39:16.757854Z",
     "start_time": "2021-12-06T15:39:16.752889Z"
    }
   },
   "outputs": [
    {
     "data": {
      "text/plain": [
       "train    4788\n",
       "test     1197\n",
       "Name: set, dtype: int64"
      ]
     },
     "execution_count": 258,
     "metadata": {},
     "output_type": "execute_result"
    }
   ],
   "source": [
    "df_balanced.set.value_counts()"
   ]
  },
  {
   "cell_type": "code",
   "execution_count": 254,
   "id": "e726e7af",
   "metadata": {
    "ExecuteTime": {
     "end_time": "2021-12-06T15:27:01.197852Z",
     "start_time": "2021-12-06T15:27:01.190167Z"
    }
   },
   "outputs": [
    {
     "data": {
      "text/plain": [
       "clementine      57\n",
       "taro            57\n",
       "satsuma         57\n",
       "brick           57\n",
       "cherry          57\n",
       "man             57\n",
       "life            57\n",
       "chicory         57\n",
       "sapodilla       57\n",
       "dessert         57\n",
       "periwinkle      57\n",
       "onion           57\n",
       "tangelo         57\n",
       "Scandinavian    57\n",
       "blue            57\n",
       "hog             57\n",
       "monkey          57\n",
       "ginger          57\n",
       "bagel           57\n",
       "cress           56\n",
       "bean            56\n",
       "tabasco         56\n",
       "chip            56\n",
       "bass            56\n",
       "lemon           56\n",
       "bap             56\n",
       "mandarin        56\n",
       "lime            56\n",
       "house           56\n",
       "pulse           56\n",
       "sardine         56\n",
       "star            56\n",
       "shoulder        56\n",
       "light           55\n",
       "king            55\n",
       "soy             55\n",
       "nutmeg          55\n",
       "papaya          55\n",
       "corn            55\n",
       "lingonberry     55\n",
       "cream           55\n",
       "pickerel        54\n",
       "ackee           54\n",
       "garlic          54\n",
       "baguet          54\n",
       "medlar          54\n",
       "eggplant        53\n",
       "raisin          52\n",
       "breakfast       52\n",
       "muscadine       52\n",
       "whiting         52\n",
       "frijole         51\n",
       "cornmeal        49\n",
       "jack            47\n",
       "Name: subclass, dtype: int64"
      ]
     },
     "execution_count": 254,
     "metadata": {},
     "output_type": "execute_result"
    }
   ],
   "source": [
    "df_balanced[df_balanced.label == 'food-images']['subclass'].value_counts()"
   ]
  },
  {
   "cell_type": "code",
   "execution_count": null,
   "id": "579005c5",
   "metadata": {},
   "outputs": [],
   "source": []
  },
  {
   "cell_type": "code",
   "execution_count": null,
   "id": "47a08222",
   "metadata": {},
   "outputs": [],
   "source": []
  },
  {
   "cell_type": "code",
   "execution_count": null,
   "id": "f0648a29",
   "metadata": {},
   "outputs": [],
   "source": []
  },
  {
   "cell_type": "code",
   "execution_count": 248,
   "id": "cde3cf1b",
   "metadata": {
    "ExecuteTime": {
     "end_time": "2021-12-05T16:09:24.680131Z",
     "start_time": "2021-12-05T16:09:24.584236Z"
    }
   },
   "outputs": [],
   "source": [
    "df_balanced.to_csv('data/foodNotFood-balanced.csv', index=False)\n",
    "df.to_csv('data/foodNotFood.csv', index=False)"
   ]
  },
  {
   "cell_type": "code",
   "execution_count": 39,
   "id": "d189cb71",
   "metadata": {
    "ExecuteTime": {
     "end_time": "2021-12-10T06:50:52.447185Z",
     "start_time": "2021-12-10T06:50:52.224700Z"
    }
   },
   "outputs": [],
   "source": [
    "df_new.to_csv('data/foodNotFood-101.csv', index=False)"
   ]
  },
  {
   "cell_type": "code",
   "execution_count": null,
   "id": "4a7332b7",
   "metadata": {},
   "outputs": [],
   "source": []
  },
  {
   "cell_type": "code",
   "execution_count": 21,
   "id": "d82fc7fa",
   "metadata": {
    "ExecuteTime": {
     "end_time": "2021-12-21T07:50:13.856687Z",
     "start_time": "2021-12-21T07:50:13.752604Z"
    }
   },
   "outputs": [],
   "source": [
    "df = pd.read_csv('data/foodNotFood-101.csv')"
   ]
  },
  {
   "cell_type": "code",
   "execution_count": 22,
   "id": "be4386a3",
   "metadata": {
    "ExecuteTime": {
     "end_time": "2021-12-21T07:50:15.004773Z",
     "start_time": "2021-12-21T07:50:14.957560Z"
    }
   },
   "outputs": [],
   "source": [
    "df['img'] = df['img'].apply(lambda x: \"../\" + x)"
   ]
  },
  {
   "cell_type": "code",
   "execution_count": 23,
   "id": "da9d3a65",
   "metadata": {
    "ExecuteTime": {
     "end_time": "2021-12-21T07:50:19.214862Z",
     "start_time": "2021-12-21T07:50:18.988700Z"
    }
   },
   "outputs": [],
   "source": [
    "df.to_csv('data2/foodNotFood-101.csv', index=False)"
   ]
  },
  {
   "cell_type": "code",
   "execution_count": null,
   "id": "4edebd1b",
   "metadata": {},
   "outputs": [],
   "source": []
  }
 ],
 "metadata": {
  "kernelspec": {
   "display_name": "Python 3",
   "language": "python",
   "name": "python3"
  },
  "language_info": {
   "codemirror_mode": {
    "name": "ipython",
    "version": 3
   },
   "file_extension": ".py",
   "mimetype": "text/x-python",
   "name": "python",
   "nbconvert_exporter": "python",
   "pygments_lexer": "ipython3",
   "version": "3.9.5"
  },
  "toc": {
   "base_numbering": 1,
   "nav_menu": {},
   "number_sections": true,
   "sideBar": true,
   "skip_h1_title": false,
   "title_cell": "Table of Contents",
   "title_sidebar": "Contents",
   "toc_cell": false,
   "toc_position": {},
   "toc_section_display": true,
   "toc_window_display": false
  }
 },
 "nbformat": 4,
 "nbformat_minor": 5
}
